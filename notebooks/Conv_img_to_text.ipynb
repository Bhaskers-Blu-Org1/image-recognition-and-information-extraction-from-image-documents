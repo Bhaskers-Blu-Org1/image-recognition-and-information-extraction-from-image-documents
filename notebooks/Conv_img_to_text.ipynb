{
 "cells": [
  {
   "cell_type": "markdown",
   "metadata": {},
   "source": [
    "# Convert Image To Text "
   ]
  },
  {
   "cell_type": "markdown",
   "metadata": {},
   "source": [
    "## 1. Setup\n",
    "\n",
    "To prepare your environment, you need to install some packages and enter credentials for the Watson services."
   ]
  },
  {
   "cell_type": "markdown",
   "metadata": {},
   "source": [
    "## 1.1 Install the necessary packages\n",
    "\n",
    "You will need to install the following packages:\n",
    "PIL: The Python Imaging Library (PIL) adds image processing capabilities to your Python interpreter.\n",
    "pytesseract: Python-tesseract is a python wrapper for Google's Tesseract-OCR.\n",
    "ibm-cos-sdk: Object Storage library for Python"
   ]
  },
  {
   "cell_type": "code",
   "execution_count": 40,
   "metadata": {},
   "outputs": [
    {
     "name": "stdout",
     "output_type": "stream",
     "text": [
      "Requirement already satisfied: pytesseract in /anaconda3/lib/python3.6/site-packages\n",
      "Requirement already satisfied: Pillow in /anaconda3/lib/python3.6/site-packages (from pytesseract)\n",
      "\u001b[33mYou are using pip version 9.0.1, however version 10.0.1 is available.\n",
      "You should consider upgrading via the 'pip install --upgrade pip' command.\u001b[0m\n"
     ]
    }
   ],
   "source": [
    "!pip install pytesseract"
   ]
  },
  {
   "cell_type": "code",
   "execution_count": 41,
   "metadata": {},
   "outputs": [
    {
     "name": "stdout",
     "output_type": "stream",
     "text": [
      "Requirement already satisfied: ibm-cos-sdk in /anaconda3/lib/python3.6/site-packages\n",
      "Requirement already satisfied: ibm-cos-sdk-core==2.*,>=2.0.0 in /anaconda3/lib/python3.6/site-packages (from ibm-cos-sdk)\n",
      "Requirement already satisfied: ibm-cos-sdk-s3transfer==2.*,>=2.0.0 in /anaconda3/lib/python3.6/site-packages (from ibm-cos-sdk)\n",
      "Requirement already satisfied: python-dateutil<3.0.0,>=2.1 in /anaconda3/lib/python3.6/site-packages (from ibm-cos-sdk-core==2.*,>=2.0.0->ibm-cos-sdk)\n",
      "Requirement already satisfied: docutils>=0.10 in /anaconda3/lib/python3.6/site-packages (from ibm-cos-sdk-core==2.*,>=2.0.0->ibm-cos-sdk)\n",
      "Requirement already satisfied: jmespath<1.0.0,>=0.7.1 in /anaconda3/lib/python3.6/site-packages (from ibm-cos-sdk-core==2.*,>=2.0.0->ibm-cos-sdk)\n",
      "Requirement already satisfied: six>=1.5 in /anaconda3/lib/python3.6/site-packages (from python-dateutil<3.0.0,>=2.1->ibm-cos-sdk-core==2.*,>=2.0.0->ibm-cos-sdk)\n",
      "\u001b[33mYou are using pip version 9.0.1, however version 10.0.1 is available.\n",
      "You should consider upgrading via the 'pip install --upgrade pip' command.\u001b[0m\n"
     ]
    }
   ],
   "source": [
    "!pip install ibm-cos-sdk"
   ]
  },
  {
   "cell_type": "markdown",
   "metadata": {},
   "source": [
    "## 1.2 Import packages and libraries\n",
    "Import the packages and libraries that you'll use:"
   ]
  },
  {
   "cell_type": "code",
   "execution_count": 42,
   "metadata": {},
   "outputs": [],
   "source": [
    "try:\n",
    "    import Image\n",
    "except ImportError:\n",
    "    from PIL import Image\n",
    "import pytesseract\n",
    "\n",
    "import ibm_boto3\n",
    "from ibm_botocore.client import Config\n",
    "\n",
    "import json\n",
    "import requests"
   ]
  },
  {
   "cell_type": "markdown",
   "metadata": {},
   "source": [
    "## 2. Configuration\n",
    "Add configurable items of the notebook below"
   ]
  },
  {
   "cell_type": "markdown",
   "metadata": {},
   "source": [
    "### 2.1 Global Variables\n",
    "Add global variables."
   ]
  },
  {
   "cell_type": "code",
   "execution_count": 43,
   "metadata": {},
   "outputs": [],
   "source": [
    "req_paths=['/Users/muralidhar/Desktop/Data/Form1 copy 2.jpg']\n",
    "#credentials_path='C:/Users/IBM_ADMIN/credentials/credentials.json'"
   ]
  },
  {
   "cell_type": "markdown",
   "metadata": {},
   "source": [
    "### 2.2 Connect to Object Storage"
   ]
  },
  {
   "cell_type": "code",
   "execution_count": 44,
   "metadata": {},
   "outputs": [
    {
     "name": "stdout",
     "output_type": "stream",
     "text": [
      "Service credential:\n",
      "{\n",
      "  \"apikey\": \"SeulxYm169Os5se6rmlPmPLLmEimXNvVMf2SHDPHx2fw\",\n",
      "  \"cos_hmac_keys\": {\n",
      "    \"access_key_id\": \"7008a020378340f38b8d57f3d747185b\",\n",
      "    \"secret_access_key\": \"64de8f9c116d43ead2ab60eed5d748dc1fa4da04ce9a0bb8\"\n",
      "  },\n",
      "  \"endpoints\": \"https://cos-service.bluemix.net/endpoints\",\n",
      "  \"iam_apikey_description\": \"Auto generated apikey during resource-key operation for Instance - crn:v1:bluemix:public:cloud-object-storage:global:a/f2043d7defcd090971c66795a834d43c:8e7d0cae-69cd-45ec-8430-f0389e234d95::\",\n",
      "  \"iam_apikey_name\": \"auto-generated-apikey-7008a020-3783-40f3-8b8d-57f3d747185b\",\n",
      "  \"iam_role_crn\": \"crn:v1:bluemix:public:iam::::role:Administrator\",\n",
      "  \"iam_serviceid_crn\": \"crn:v1:bluemix:public:iam-identity::a/f2043d7defcd090971c66795a834d43c::serviceid:ServiceId-d3e3c90c-07f4-4eb3-8d17-9cef425ff3d6\",\n",
      "  \"resource_instance_id\": \"crn:v1:bluemix:public:cloud-object-storage:global:a/f2043d7defcd090971c66795a834d43c:8e7d0cae-69cd-45ec-8430-f0389e234d95::\"\n",
      "}\n"
     ]
    }
   ],
   "source": [
    "'''Creating client...\n",
    "'''\n",
    "\n",
    "with open('/Users/muralidhar/Desktop/credentials.json') as data_file:\n",
    "    credentials = json.load(data_file)\n",
    "print(\"Service credential:\")\n",
    "print(json.dumps(credentials, indent=2))\n",
    "endpoints = requests.get(credentials.get('endpoints')).json()"
   ]
  },
  {
   "cell_type": "code",
   "execution_count": 45,
   "metadata": {},
   "outputs": [
    {
     "data": {
      "text/plain": [
       "{'identity-endpoints': {'iam-policy': 'iampap.bluemix.net',\n",
       "  'iam-token': 'iam.bluemix.net'},\n",
       " 'service-endpoints': {'cross-region': {'ap': {'private': {'Hong Kong': 's3.hkg-ap-geo.objectstorage.service.networklayer.com',\n",
       "     'Seoul': 's3.seo-ap-geo.objectstorage.service.networklayer.com',\n",
       "     'Tokyo': 's3.tok-ap-geo.objectstorage.service.networklayer.com',\n",
       "     'ap-geo': 's3.ap-geo.objectstorage.service.networklayer.com'},\n",
       "    'public': {'Hong Kong': 's3.hkg-ap-geo.objectstorage.softlayer.net',\n",
       "     'Seoul': 's3.seo-ap-geo.objectstorage.softlayer.net',\n",
       "     'Tokyo': 's3.tok-ap-geo.objectstorage.softlayer.net',\n",
       "     'ap-geo': 's3.ap-geo.objectstorage.softlayer.net'}},\n",
       "   'eu': {'private': {'Amsterdam': 's3.ams-eu-geo.objectstorage.service.networklayer.com',\n",
       "     'Frankfurt': 's3.fra-eu-geo.objectstorage.service.networklayer.com',\n",
       "     'Milan': 's3.mil-eu-geo.objectstorage.service.networklayer.com',\n",
       "     'eu-geo': ' s3.eu-geo.objectstorage.service.networklayer.com'},\n",
       "    'public': {'Amsterdam': 's3.ams-eu-geo.objectstorage.softlayer.net',\n",
       "     'Frankfurt': 's3.fra-eu-geo.objectstorage.softlayer.net',\n",
       "     'Milan': 's3.mil-eu-geo.objectstorage.softlayer.net',\n",
       "     'eu-geo': 's3.eu-geo.objectstorage.softlayer.net'}},\n",
       "   'us': {'private': {'Dallas': 's3-api.dal-us-geo.objectstorage.service.networklayer.com',\n",
       "     'San Jose': 's3-api.sjc-us-geo.objectstorage.service.networklayer.com',\n",
       "     'Washington': 's3-api.wdc-us-geo.objectstorage.service.networklayer.com',\n",
       "     'us-geo': 's3-api.us-geo.objectstorage.service.networklayer.com'},\n",
       "    'public': {'Dallas': 's3-api.dal-us-geo.objectstorage.softlayer.net',\n",
       "     'San Jose': 's3-api.sjc-us-geo.objectstorage.softlayer.net',\n",
       "     'Washington': 's3-api.wdc-us-geo.objectstorage.softlayer.net',\n",
       "     'us-geo': 's3-api.us-geo.objectstorage.softlayer.net'}}},\n",
       "  'regional': {'eu-gb': {'private': {'eu-gb': 's3.eu-gb.objectstorage.service.networklayer.com'},\n",
       "    'public': {'eu-gb': 's3.eu-gb.objectstorage.softlayer.net'}},\n",
       "   'us-east': {'private': {'us-east': 's3.us-east.objectstorage.service.networklayer.com'},\n",
       "    'public': {'us-east': 's3.us-east.objectstorage.softlayer.net'}},\n",
       "   'us-south': {'private': {'us-south': 's3.us-south.objectstorage.service.networklayer.com'},\n",
       "    'public': {'us-south': 's3.us-south.objectstorage.softlayer.net'}}},\n",
       "  'single-site': {'che01': {'private': {'che01': 's3.che01.objectstorage.service.networklayer.com'},\n",
       "    'public': {'che01': 's3.che01.objectstorage.softlayer.net'}},\n",
       "   'mel01': {'private': {'mel01': 's3.mel01.objectstorage.service.networklayer.com'},\n",
       "    'public': {'mel01': 's3.mel01.objectstorage.softlayer.net'}},\n",
       "   'tor01': {'private': {'tor01': 's3.tor01.objectstorage.service.networklayer.com'},\n",
       "    'public': {'tor01': 's3.tor01.objectstorage.softlayer.net'}}}}}"
      ]
     },
     "execution_count": 45,
     "metadata": {},
     "output_type": "execute_result"
    }
   ],
   "source": [
    "''' Identify the region based on the region of the cloud object storage\n",
    "'''\n",
    "endpoints"
   ]
  },
  {
   "cell_type": "code",
   "execution_count": 46,
   "metadata": {},
   "outputs": [],
   "source": [
    "''' Creating Client\n",
    "'''\n",
    "iam_host = (endpoints['identity-endpoints']['iam-token'])\n",
    "cos_host = (endpoints['service-endpoints']['cross-region']['us']['public']['us-geo'])\n",
    "api_key = credentials.get('apikey')\n",
    "service_instance_id = credentials.get('resource_instance_id')\n",
    "# Constrict auth and cos endpoint\n",
    "auth_endpoint = \"https://\" + iam_host + \"/oidc/token\"\n",
    "service_endpoint = \"https://\" + cos_host"
   ]
  },
  {
   "cell_type": "code",
   "execution_count": 47,
   "metadata": {},
   "outputs": [],
   "source": [
    "cos = ibm_boto3.client('s3',\n",
    "                    ibm_api_key_id=api_key,\n",
    "                    ibm_service_instance_id=service_instance_id,\n",
    "                    ibm_auth_endpoint=auth_endpoint,\n",
    "                    config=Config(signature_version='oauth'),\n",
    "                    endpoint_url=service_endpoint)"
   ]
  },
  {
   "cell_type": "code",
   "execution_count": 48,
   "metadata": {},
   "outputs": [
    {
     "name": "stdout",
     "output_type": "stream",
     "text": [
      "Current Bucket List:\n",
      "[\n",
      "  \"imagerecognitionpattern-donotdelete-pr-7whfpase0vr47w\"\n",
      "]\n",
      "---\n"
     ]
    }
   ],
   "source": [
    "response = cos.list_buckets()\n",
    "buckets = [bucket['Name'] for bucket in response['Buckets']]\n",
    "print(\"Current Bucket List:\")\n",
    "print(json.dumps(buckets, indent=2))\n",
    "print(\"---\")"
   ]
  },
  {
   "cell_type": "code",
   "execution_count": 49,
   "metadata": {},
   "outputs": [],
   "source": [
    "''' Choose the desired bucket name as per your project's name on Watson Studio\n",
    "'''\n",
    "\n",
    "bucket_name='imagerecognitionpattern-donotdelete-pr-7whfpase0vr47w'"
   ]
  },
  {
   "cell_type": "code",
   "execution_count": 50,
   "metadata": {},
   "outputs": [],
   "source": [
    "def put_file(filename, filecontents):\n",
    "    '''Write file to Cloud Object Storage'''\n",
    "    resp = cos.put_object(Bucket=bucket_name, Key=filename, Body=filecontents)\n",
    "    return resp\n",
    "\n",
    "def load_string(fileobject):\n",
    "    '''Load the file contents into a Python string'''\n",
    "    text = fileobject.read()\n",
    "    return text"
   ]
  },
  {
   "cell_type": "markdown",
   "metadata": {},
   "source": [
    "## 3. Convert\n",
    "This function extracts text from the desired input image and stores in the text file"
   ]
  },
  {
   "cell_type": "code",
   "execution_count": 51,
   "metadata": {},
   "outputs": [],
   "source": [
    "def convert(filename, name):\n",
    "    print(\"name\", name)\n",
    "    img=Image.open(filename)\n",
    "    text1 = pytesseract.image_to_string(img)\n",
    "    print(\"Text from Image\")\n",
    "    print(text1)\n",
    "    put_file( name, text1)"
   ]
  },
  {
   "cell_type": "code",
   "execution_count": 52,
   "metadata": {},
   "outputs": [
    {
     "name": "stdout",
     "output_type": "stream",
     "text": [
      "name form-doc-1.txt\n",
      "Text from Image\n",
      "PURCHASE AGREEMENT\n",
      "\n",
      "THIS IS A LEGALLY BINDING CONTRACT BETWEEN PURCHASER AND SELLER.\n",
      "IF YOU DO NOT UNDERSTAND IT, SEEK LEGAL ADVICE.\n",
      "\n",
      "1. PARTIES TO CONTRACT - PROPERTY. Purchaser and Seller acknowledge that Broker is ABC\n",
      "is not the limited agent of both parties to this transaction as outlined in Section III of the\n",
      "Agency Agreement Addendum as authorized by Purchaser and Seller, XYZ, hereinafter\n",
      "referred to as Purchaser, offers and agrees to purchase from , UVW, hereinafter referred to\n",
      "as Seller, upon the terms and conditions set forth, the property legally described as:\n",
      "\n",
      " \n",
      "\n",
      " \n",
      "\n",
      "also known as\n",
      "\n",
      " \n",
      "\n",
      " \n",
      "\n",
      "2. EARNEST MONEY DEPOSIT‘ Earnest Money in the amount of (S )\n",
      "\n",
      "DOLLARS Cash\n",
      "Check ,unless otherwise noted herein, shall be deposited into the trust account of\n",
      "the listing selling broker on the next legal banking day after\n",
      "\n",
      "acceptance of this offer.\n",
      "\n",
      "Other earnest money provisions:\n",
      "\n",
      " \n",
      "\n",
      " \n",
      "\n",
      "3. PURCHASE PRICE. The total purchase price is to be (S )\n",
      "DOLLARS\n",
      "\n",
      " \n",
      "\n",
      "After earnest money herein is credited, the remaining balance is to be paid by Purchaser at\n",
      "closing.\n",
      "\n",
      "4. F INANCING.\n",
      "New Mortgage. This offer is contingent upon Purchaser obtaining a new\n",
      "\n",
      "VA, iFHA, iSDHDA, Conventional,or i typeofloan.Aletter\n",
      "of Purchaser’s loan status from\n",
      "\n",
      " \n",
      "\n",
      "is attached or iwill be delivered by (date).\n",
      "\n",
      "Within legal banking days afteracceptance of this Agreement,\n",
      "Purchaser will make application for and diligently and in good faith endeavor to secure a\n",
      "new loan, pay all application fees, and to sign all financing documents without delay.\n",
      "Purchaser reserves the right to obtain alternative financing as long as there are no increased\n",
      "costs to Seller‘\n",
      "\n",
      "Assumption. See attached Addendum.\n",
      "Contract for Deed/Private Mortgage. See attached Addendum.\n"
     ]
    }
   ],
   "source": [
    "i=1\n",
    "for f in req_paths:\n",
    "    name='form-doc-'+str(i)+'.txt'\n",
    "    convert(f,name)\n",
    "    i=i+1"
   ]
  },
  {
   "cell_type": "code",
   "execution_count": null,
   "metadata": {},
   "outputs": [],
   "source": []
  }
 ],
 "metadata": {
  "kernelspec": {
   "display_name": "Python 3",
   "language": "python",
   "name": "python3"
  },
  "language_info": {
   "codemirror_mode": {
    "name": "ipython",
    "version": 3
   },
   "file_extension": ".py",
   "mimetype": "text/x-python",
   "name": "python",
   "nbconvert_exporter": "python",
   "pygments_lexer": "ipython3",
   "version": "3.6.4"
  }
 },
 "nbformat": 4,
 "nbformat_minor": 2
}
